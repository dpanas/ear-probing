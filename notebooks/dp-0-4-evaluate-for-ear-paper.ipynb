{
 "cells": [
  {
   "cell_type": "markdown",
   "id": "0ba280b3",
   "metadata": {},
   "source": [
    "# Final figures\n",
    "\n",
    "That is, numbers and plots for the paper, and making one big dataframe for rummaging around in. Notebook hopefully straightforward - listing parsed data objects, reading them in and converting the dictionaries to a nice dataframe\n",
    "- top level column index is model + prompt configuration / true\n",
    "- second level:\n",
    "-- `a` is for the left fact of quadruple {thing_a} and {element_a} \n",
    "-- `b` is for the right fact of quadruple {thing_b} and {element_b}\n",
    "-- `a_is_num` and `b_is_num` flags when the facts are numbers and thus can have Entailment evaluated\n",
    "-- `rel` is the relationship string returned by LLM\n",
    "-- finally `rel_ent` is the _entailed_ relationship between facts `a` and `b`\n",
    "- indexing by the quadruples, unfortunately slightly counter-intuitive (thing_a, thing_b, elements_a, elements_b), I think it was natural from data construction point of view to make sure subject pairs do not repeat or sth\n",
    "\n"
   ]
  },
  {
   "cell_type": "code",
   "execution_count": 1,
   "id": "7414ddcd",
   "metadata": {},
   "outputs": [],
   "source": [
    "# re-loads code before cell execution, so if sth changes it will propagate:\n",
    "%load_ext autoreload\n",
    "%autoreload 2"
   ]
  },
  {
   "cell_type": "code",
   "execution_count": 34,
   "id": "4fba69af",
   "metadata": {},
   "outputs": [],
   "source": [
    "import os, sys\n",
    "import logging\n",
    "\n",
    "import numpy as np\n",
    "import pandas as pd\n",
    "import matplotlib.pyplot as plt\n",
    "\n",
    "sys.path.append('..')\n",
    "\n",
    "import ear.utilities as tut\n",
    "from ear.entail import NumericalEntailmentBase\n",
    "from ear.evaluate import *"
   ]
  },
  {
   "cell_type": "markdown",
   "id": "697ec146",
   "metadata": {},
   "source": [
    "### Set up logging\n",
    "\n",
    "Specify logger(s), level(s) and where to log to, like so:"
   ]
  },
  {
   "cell_type": "code",
   "execution_count": 3,
   "id": "481aabff",
   "metadata": {},
   "outputs": [
    {
     "name": "stderr",
     "output_type": "stream",
     "text": [
      "2024-06-29 19:21:03 | DEBUG @ ear\n",
      "                    | K, it worked\n"
     ]
    }
   ],
   "source": [
    "logger = logging.getLogger('ear')\n",
    "tut.configure_loggers( \n",
    "    [logger], logging.DEBUG, log_here= True\n",
    ")\n",
    "\n",
    "logger.debug('K, it worked')"
   ]
  },
  {
   "cell_type": "markdown",
   "id": "22829b2f",
   "metadata": {},
   "source": [
    "## Set up namespace, e.g. point to data"
   ]
  },
  {
   "cell_type": "code",
   "execution_count": 61,
   "id": "7f54fc02",
   "metadata": {},
   "outputs": [],
   "source": [
    "folder = '../data/entailment/'\n",
    "to_eval = [f'{folder}/{x}' for x in os.listdir(folder) if '_parsed' in x]"
   ]
  },
  {
   "cell_type": "code",
   "execution_count": 36,
   "id": "b370cae7",
   "metadata": {},
   "outputs": [],
   "source": [
    "def get_accuracies( dfe, model):\n",
    "    dict_ = {}\n",
    "    dict_accuracies = {}\n",
    "    for item in ['a','b','rel']:\n",
    "        dict_[ item] = (dfe[ model][ item] == dfe[ 'true'][ item])\n",
    "        dict_accuracies[ item] = [dict_[ item].sum().sum() / len( dfe)]        \n",
    "    dict_accuracies[ 'a_b'] = [( dict_['a'] & dict_['b']).sum().sum() / len(dfe)]\n",
    "    dict_accuracies[ 'gold'] = [( dict_['a'] & dict_['b'] & dict_['rel']).sum().sum() / len(dfe)]\n",
    "    dict_accuracies[ 'ent'] = [(dfe[ model]['rel'] == dfe[ model]['rel_ent']).sum().sum() / len(dfe)]\n",
    "    return dict_accuracies"
   ]
  },
  {
   "cell_type": "code",
   "execution_count": 37,
   "id": "ab25b7af",
   "metadata": {},
   "outputs": [],
   "source": [
    "colors = ['lightsteelblue','thistle','gold','steelblue','darkslateblue','goldenrod']\n",
    "\n",
    "def plot_bar_set( data_dict, tooth_gap_after, width, ax, colors, legend,  extra_flag= False):\n",
    "    tooth_gap = 0\n",
    "    for ii, model in enumerate( data_dict.keys()):\n",
    "        sub_ = data_dict[ model]\n",
    "        if ii >= tooth_gap_after:\n",
    "            tooth_gap = 0.05\n",
    "        xes = [x + width*ii + tooth_gap for x in range(len(sub_))]\n",
    "        if extra_flag:\n",
    "            ax.bar( xes, sub_.values, width= width, color= colors[ii], label= legend[ii])\n",
    "        else:\n",
    "            ax.bar( xes, sub_.values, width= width, color= colors[ii], label= legend[ii], edgecolor='black', alpha=0.3)\n",
    "    return tooth_gap, sub_\n",
    "        \n",
    "    \n",
    "    \n",
    "\n",
    "def plot_grouped_bars( \n",
    "    data_dict, tooth_gap_after = None, wide= False, file_out= None, ylabel= 'Proportion correct', width= 0.13,\n",
    "    colors= colors, labels= None, rotation= 35, legend= None, xlim= None, extra_dict= None\n",
    "):\n",
    "    tooth_gap_after = tooth_gap_after if tooth_gap_after is not None else len(data_dict)\n",
    "    legend = legend if legend is not None else list(data_dict.keys())\n",
    "    if wide:\n",
    "        _, ax = plt.subplots( figsize= (16,5))\n",
    "    else:\n",
    "        _, ax = plt.subplots( figsize= (13,4))\n",
    "    \n",
    "    flag_ = False\n",
    "    if extra_dict is None:\n",
    "        flag_ = True\n",
    "    tooth_gap, sub_ = plot_bar_set( data_dict, tooth_gap_after, width, ax, colors, legend, flag_)    \n",
    "    if extra_dict is not None:\n",
    "        plot_bar_set( \n",
    "            extra_dict, tooth_gap_after, width, ax, colors, [x for x in legend[len(data_dict):]], True\n",
    "        )\n",
    "    \n",
    "    _ = ax.set_xticks( [x  + (ii*width + tooth_gap)/2 for x in range(len(sub_))])\n",
    "    #_ = ax.set_xticks( [x -1/2 + (ii*width + tooth_gap)/2 for x in range(len(sub_))])\n",
    "    if labels is not None:\n",
    "        _ = ax.set_xticklabels( labels, rotation= rotation, fontsize= 12)\n",
    "    ax.set_ylabel( ylabel, fontsize= 13)\n",
    "    \n",
    "    if wide:\n",
    "        plt.legend(fontsize=13)\n",
    "    else:\n",
    "        plt.legend(bbox_to_anchor= (1.01, 0.5), loc= 'center left', fontsize= 13)\n",
    "    if xlim:\n",
    "        ax.set_xlim( xlim)\n",
    "    if file_out is not None:\n",
    "        plt.savefig( file_out, dpi=400, bbox_inches= 'tight')"
   ]
  },
  {
   "cell_type": "code",
   "execution_count": 38,
   "id": "6e03cb7d",
   "metadata": {},
   "outputs": [],
   "source": [
    "def make_suffix( file_):\n",
    "    part1 = file_.split('fact-')[1].split('_')[0].replace('v','f')\n",
    "    part2 = file_.split('shot-')[0].split('-')[-1]\n",
    "    part3 = ''\n",
    "    if '_qa_' in file_:\n",
    "        part3 = 'q'\n",
    "    return f'{part1}s{part2}{part3}'"
   ]
  },
  {
   "cell_type": "markdown",
   "id": "216177b3",
   "metadata": {},
   "source": [
    "## Investigate data, try things out \n",
    "\n",
    "_**you can even add fancy markdown throughout to document things..?**_"
   ]
  },
  {
   "cell_type": "code",
   "execution_count": 40,
   "id": "2a6224a1",
   "metadata": {},
   "outputs": [
    {
     "name": "stdout",
     "output_type": "stream",
     "text": [
      "Load synth_subjects_00_fact-v0_prompt-0shot-v0_gpt-3.5-turbo_parsed.pickle.\n",
      "Load synth_subjects_00_fact-v0_prompt-0shot-v0_gpt-4_parsed.pickle.\n",
      "Load synth_subjects_00_fact-v1_prompt-0shot-v1_gpt-3.5-turbo_parsed.pickle.\n",
      "Load synth_subjects_00_fact-v1_prompt-0shot-v1_gpt-4_parsed.pickle.\n",
      "Load synth_subjects_00_fact-v1_prompt-1shot-v1_gpt-3.5-turbo_parsed.pickle.\n",
      "Load synth_subjects_00_fact-v1_prompt-1shot-v1_gpt-4_parsed.pickle.\n",
      "Load synth_subjects_00_mask_fact-v0_prompt-0shot-v0_Mistral-7B-Instruct-v0.1_parsed.pickle.\n",
      "Load synth_subjects_00_mask_fact-v0_prompt-0shot-v0_Mistral-7B-Instruct-v0.2_parsed.pickle.\n",
      "Load synth_subjects_00_mask_fact-v1_prompt-0shot-v1_Mistral-7B-Instruct-v0.1_parsed.pickle.\n",
      "Load synth_subjects_00_mask_fact-v1_prompt-0shot-v1_Mistral-7B-Instruct-v0.2_parsed.pickle.\n",
      "Load synth_subjects_00_mask_fact-v1_prompt-1shot-v1_Mistral-7B-Instruct-v0.1_parsed.pickle.\n",
      "Load synth_subjects_00_mask_fact-v1_prompt-1shot-v1_Mistral-7B-Instruct-v0.2_parsed.pickle.\n",
      "Load synth_subjects_00_qa_fact-v1_prompt-0shot-v1_Mistral-7B-Instruct-v0.1_parsed.pickle.\n",
      "Load synth_subjects_00_qa_fact-v1_prompt-0shot-v1_Mistral-7B-Instruct-v0.2_parsed.pickle.\n"
     ]
    }
   ],
   "source": [
    "dfs = None\n",
    "dfe = None\n",
    "drop_element = 'annenae'\n",
    "for ii, file_ in enumerate(to_eval):\n",
    "    NEP_ = NumericalEntailmentBase.load( file_)\n",
    "    split_on = '/'\n",
    "    print(f'Load {file_.split(split_on)[-1]}.')\n",
    "    NEP_.model = NEP_.model.replace('Mistral','mist').replace('-Instruct','i').replace('-v0.','')\n",
    "    suffix_ = make_suffix( file_)    \n",
    "    if dfs is None:\n",
    "        dfs_ = make_frame_subjects( NEP_, suffix= suffix_, ground_truth= True)\n",
    "        dfe_ = make_frame_entailed( NEP_, suffix= suffix_, ground_truth= True)\n",
    "        drop_ids = [x for x in dfe_.index if drop_element in x]\n",
    "        drop_ix = [x for x in dfs_.index if drop_element == x]\n",
    "        dfs = dfs_.drop(labels= drop_ix, axis=0)\n",
    "        dfe = dfe_.drop(labels= drop_ids, axis= 0)\n",
    "    else:\n",
    "        dfs_ = make_frame_subjects( NEP_, suffix= suffix_)\n",
    "        dfe_ = make_frame_entailed( NEP_, suffix= suffix_)\n",
    "        drop_ids = [x for x in dfe_.index if drop_element in x]\n",
    "        drop_ix = [x for x in dfs_.index if drop_element == x]\n",
    "        dfs = dfs.merge( dfs_.drop(labels= drop_ix, axis=0), left_index= True, right_index= True)\n",
    "        dfe = dfe.merge( dfe_.drop(labels= drop_ids, axis= 0), left_index= True, right_index= True)\n",
    "\n",
    "models_ = sorted([x for x in dfe.columns.get_level_values('model').unique() if x != 'true'])"
   ]
  },
  {
   "cell_type": "code",
   "execution_count": 41,
   "id": "c12565c2",
   "metadata": {},
   "outputs": [],
   "source": [
    "labels_ = [\n",
    "    x_.replace('-','').replace('mist','mi').replace('f0s0',' 0-shot A').replace('f1s0',' 0-shot B').replace('f1s1',' 1-shot B') \n",
    "    for x_ in models_\n",
    "]"
   ]
  },
  {
   "cell_type": "code",
   "execution_count": 42,
   "id": "be080043",
   "metadata": {},
   "outputs": [
    {
     "data": {
      "text/html": [
       "<div>\n",
       "<style scoped>\n",
       "    .dataframe tbody tr th:only-of-type {\n",
       "        vertical-align: middle;\n",
       "    }\n",
       "\n",
       "    .dataframe tbody tr th {\n",
       "        vertical-align: top;\n",
       "    }\n",
       "\n",
       "    .dataframe thead tr th {\n",
       "        text-align: left;\n",
       "    }\n",
       "\n",
       "    .dataframe thead tr:last-of-type th {\n",
       "        text-align: right;\n",
       "    }\n",
       "</style>\n",
       "<table border=\"1\" class=\"dataframe\">\n",
       "  <thead>\n",
       "    <tr>\n",
       "      <th>model</th>\n",
       "      <th colspan=\"3\" halign=\"left\">true</th>\n",
       "      <th colspan=\"6\" halign=\"left\">mist-7Bi1-f1s0</th>\n",
       "    </tr>\n",
       "    <tr>\n",
       "      <th>answer</th>\n",
       "      <th>a</th>\n",
       "      <th>b</th>\n",
       "      <th>rel</th>\n",
       "      <th>a</th>\n",
       "      <th>b</th>\n",
       "      <th>rel</th>\n",
       "      <th>a_is_num</th>\n",
       "      <th>b_is_num</th>\n",
       "      <th>rel_ent</th>\n",
       "    </tr>\n",
       "    <tr>\n",
       "      <th>probe</th>\n",
       "      <th></th>\n",
       "      <th></th>\n",
       "      <th></th>\n",
       "      <th></th>\n",
       "      <th></th>\n",
       "      <th></th>\n",
       "      <th></th>\n",
       "      <th></th>\n",
       "      <th></th>\n",
       "    </tr>\n",
       "  </thead>\n",
       "  <tbody>\n",
       "    <tr>\n",
       "      <th>(bicycle, car, chains, chains)</th>\n",
       "      <td>1</td>\n",
       "      <td>0</td>\n",
       "      <td>more</td>\n",
       "      <td>2</td>\n",
       "      <td>4</td>\n",
       "      <td>more</td>\n",
       "      <td>True</td>\n",
       "      <td>True</td>\n",
       "      <td>less</td>\n",
       "    </tr>\n",
       "    <tr>\n",
       "      <th>(bicycle, car, chains, engines)</th>\n",
       "      <td>1</td>\n",
       "      <td>1</td>\n",
       "      <td>same</td>\n",
       "      <td>2</td>\n",
       "      <td>4</td>\n",
       "      <td>more</td>\n",
       "      <td>True</td>\n",
       "      <td>True</td>\n",
       "      <td>less</td>\n",
       "    </tr>\n",
       "  </tbody>\n",
       "</table>\n",
       "</div>"
      ],
      "text/plain": [
       "model                           true          mist-7Bi1-f1s0           \\\n",
       "answer                             a  b   rel              a  b   rel   \n",
       "probe                                                                   \n",
       "(bicycle, car, chains, chains)     1  0  more              2  4  more   \n",
       "(bicycle, car, chains, engines)    1  1  same              2  4  more   \n",
       "\n",
       "model                                                      \n",
       "answer                          a_is_num b_is_num rel_ent  \n",
       "probe                                                      \n",
       "(bicycle, car, chains, chains)      True     True    less  \n",
       "(bicycle, car, chains, engines)     True     True    less  "
      ]
     },
     "execution_count": 42,
     "metadata": {},
     "output_type": "execute_result"
    }
   ],
   "source": [
    "dfe[['true','mist-7Bi1-f1s0']].head(2)"
   ]
  },
  {
   "cell_type": "code",
   "execution_count": 43,
   "id": "6fa142b5",
   "metadata": {},
   "outputs": [
    {
     "data": {
      "text/plain": [
       "(240, 87)"
      ]
     },
     "execution_count": 43,
     "metadata": {},
     "output_type": "execute_result"
    }
   ],
   "source": [
    "dfe.loc[ \n",
    "    same_ans_for_models( dfe, 'mist-7Bi1-f0s0', 'mist-7Bi1-f1s0') \n",
    "    & same_ans_for_models( dfe, 'mist-7Bi1-f1s0', 'mist-7Bi1-f1s1')\n",
    "    & same_ent( dfe, 'mist-7Bi1-f1s0')\n",
    "].shape"
   ]
  },
  {
   "cell_type": "code",
   "execution_count": 44,
   "id": "ab175012",
   "metadata": {},
   "outputs": [
    {
     "data": {
      "text/plain": [
       "(1083, 87)"
      ]
     },
     "execution_count": 44,
     "metadata": {},
     "output_type": "execute_result"
    }
   ],
   "source": [
    "dfe.loc[ \n",
    "    same_ans_for_models( dfe, 'gpt-4-f0s0', 'gpt-4-f1s0') \n",
    "    & same_ans_for_models( dfe, 'gpt-4-f1s0', 'gpt-4-f1s1')\n",
    "    & same_ent( dfe, 'gpt-4-f1s0')\n",
    "].shape"
   ]
  },
  {
   "cell_type": "code",
   "execution_count": 11,
   "id": "5344125f",
   "metadata": {},
   "outputs": [
    {
     "data": {
      "text/html": [
       "<div>\n",
       "<style scoped>\n",
       "    .dataframe tbody tr th:only-of-type {\n",
       "        vertical-align: middle;\n",
       "    }\n",
       "\n",
       "    .dataframe tbody tr th {\n",
       "        vertical-align: top;\n",
       "    }\n",
       "\n",
       "    .dataframe thead tr th {\n",
       "        text-align: left;\n",
       "    }\n",
       "\n",
       "    .dataframe thead tr:last-of-type th {\n",
       "        text-align: right;\n",
       "    }\n",
       "</style>\n",
       "<table border=\"1\" class=\"dataframe\">\n",
       "  <thead>\n",
       "    <tr>\n",
       "      <th>model</th>\n",
       "      <th colspan=\"6\" halign=\"left\">mist-7Bi1-f0s0</th>\n",
       "    </tr>\n",
       "    <tr>\n",
       "      <th>answer</th>\n",
       "      <th>a</th>\n",
       "      <th>b</th>\n",
       "      <th>rel</th>\n",
       "      <th>a_is_num</th>\n",
       "      <th>b_is_num</th>\n",
       "      <th>rel_ent</th>\n",
       "    </tr>\n",
       "    <tr>\n",
       "      <th>probe</th>\n",
       "      <th></th>\n",
       "      <th></th>\n",
       "      <th></th>\n",
       "      <th></th>\n",
       "      <th></th>\n",
       "      <th></th>\n",
       "    </tr>\n",
       "  </thead>\n",
       "  <tbody>\n",
       "  </tbody>\n",
       "</table>\n",
       "</div>"
      ],
      "text/plain": [
       "Empty DataFrame\n",
       "Columns: [(mist-7Bi1-f0s0, a), (mist-7Bi1-f0s0, b), (mist-7Bi1-f0s0, rel), (mist-7Bi1-f0s0, a_is_num), (mist-7Bi1-f0s0, b_is_num), (mist-7Bi1-f0s0, rel_ent)]\n",
       "Index: []"
      ]
     },
     "execution_count": 11,
     "metadata": {},
     "output_type": "execute_result"
    }
   ],
   "source": [
    "dfe.loc[~(dfe['mist-7Bi1-f0s0']['a_is_num']),['mist-7Bi1-f0s0']]"
   ]
  },
  {
   "cell_type": "code",
   "execution_count": 207,
   "id": "cb0982e9",
   "metadata": {},
   "outputs": [
    {
     "data": {
      "text/plain": [
       "0.4838709677419355"
      ]
     },
     "execution_count": 207,
     "metadata": {},
     "output_type": "execute_result"
    }
   ],
   "source": [
    "(dfs['gpt-3.5-f0s0'] == dfs['gpt-4-f0s0']).sum().sum() / 279"
   ]
  },
  {
   "cell_type": "code",
   "execution_count": 45,
   "id": "9750826b",
   "metadata": {},
   "outputs": [
    {
     "name": "stdout",
     "output_type": "stream",
     "text": [
      "gpt-3.5-f0s0 ['less' 'less|more' 'more']\n",
      "gpt-3.5-f1s0 ['less' 'more|same' 'less|more' 'more' 'same']\n",
      "gpt-3.5-f1s1 ['less' 'same' 'more']\n",
      "gpt-4-f0s0 ['less' 'more']\n",
      "gpt-4-f1s0 ['less' 'more' 'same']\n",
      "gpt-4-f1s1 ['more' 'same' 'less' 'similar']\n",
      "mist-7Bi1-f0s0 ['more']\n",
      "mist-7Bi1-f1s0 ['more' 'less']\n",
      "mist-7Bi1-f1s0q ['less' 'less|more|same' 'less|more' 'same' 'more|same' '' 'more']\n",
      "mist-7Bi1-f1s1 ['less' 'less|more' 'more' '' 'same' 'less|same' 'more|same']\n",
      "mist-7Bi2-f0s0 ['less' 'more' 'less|more' 'less|more|same' 'less|same']\n",
      "mist-7Bi2-f1s0 ['less' 'less|more' 'more' 'less|same' 'less|more|same' 'usually'\n",
      " 'more|same' 'three']\n",
      "mist-7Bi2-f1s0q ['less' 'less|more' 'less|same']\n",
      "mist-7Bi2-f1s1 ['less' '' 'same' 'less|same' 'more' 'less|more' 'more|same'\n",
      " 'less|more|same' 'not']\n"
     ]
    }
   ],
   "source": [
    "for model in models_:\n",
    "    print(model,dfe[ model][ 'rel'].unique())"
   ]
  },
  {
   "cell_type": "code",
   "execution_count": null,
   "id": "0a8a61b6",
   "metadata": {},
   "outputs": [],
   "source": []
  },
  {
   "cell_type": "code",
   "execution_count": 109,
   "id": "d75cf1f5",
   "metadata": {},
   "outputs": [
    {
     "data": {
      "text/plain": [
       "(0.45910378144261205, 0.45010827919373647)"
      ]
     },
     "execution_count": 109,
     "metadata": {},
     "output_type": "execute_result"
    }
   ],
   "source": [
    "(dfe['true']['a'] == 0).sum() / len(dfe), (dfe['true']['b'] == 0).sum() / len(dfe)"
   ]
  },
  {
   "cell_type": "code",
   "execution_count": 107,
   "id": "8c2d1c10",
   "metadata": {},
   "outputs": [
    {
     "data": {
      "text/plain": [
       "0.19606863235049143"
      ]
     },
     "execution_count": 107,
     "metadata": {},
     "output_type": "execute_result"
    }
   ],
   "source": [
    "((dfe['true']['a']==0)&(dfe['true']['b']==0)).sum()/len(dfe)"
   ]
  },
  {
   "cell_type": "code",
   "execution_count": 110,
   "id": "db1d7442",
   "metadata": {},
   "outputs": [
    {
     "data": {
      "text/plain": [
       "0.19606863235049143"
      ]
     },
     "execution_count": 110,
     "metadata": {},
     "output_type": "execute_result"
    }
   ],
   "source": [
    "((dfe['true']['a']==0)&(dfe['true']['b']==0)&(dfe['true']['rel']=='same')).sum()/len(dfe)"
   ]
  },
  {
   "cell_type": "code",
   "execution_count": 113,
   "id": "e5d7b1e6",
   "metadata": {},
   "outputs": [
    {
     "data": {
      "text/plain": [
       "0.351824087956022"
      ]
     },
     "execution_count": 113,
     "metadata": {},
     "output_type": "execute_result"
    }
   ],
   "source": [
    "(dfe['true']['rel'] == np.random.choice(['less','more'], len(dfe))).sum() / len(dfe)"
   ]
  },
  {
   "cell_type": "markdown",
   "id": "77450c2e",
   "metadata": {},
   "source": [
    "### overal results - entailment"
   ]
  },
  {
   "cell_type": "code",
   "execution_count": 46,
   "id": "ddadbd5f",
   "metadata": {},
   "outputs": [],
   "source": [
    "dfo = pd.DataFrame()\n",
    "for model_, label_ in zip(models_, labels_):\n",
    "    dfo = pd.concat([ dfo, pd.DataFrame(get_accuracies( dfe, model_), index= [label_])])\n",
    "dfo_ = dfo.round(3)"
   ]
  },
  {
   "cell_type": "code",
   "execution_count": 47,
   "id": "ec38c215",
   "metadata": {},
   "outputs": [
    {
     "data": {
      "text/html": [
       "<div>\n",
       "<style scoped>\n",
       "    .dataframe tbody tr th:only-of-type {\n",
       "        vertical-align: middle;\n",
       "    }\n",
       "\n",
       "    .dataframe tbody tr th {\n",
       "        vertical-align: top;\n",
       "    }\n",
       "\n",
       "    .dataframe thead th {\n",
       "        text-align: right;\n",
       "    }\n",
       "</style>\n",
       "<table border=\"1\" class=\"dataframe\">\n",
       "  <thead>\n",
       "    <tr style=\"text-align: right;\">\n",
       "      <th></th>\n",
       "      <th>a</th>\n",
       "      <th>b</th>\n",
       "      <th>rel</th>\n",
       "      <th>a_b</th>\n",
       "      <th>gold</th>\n",
       "      <th>ent</th>\n",
       "    </tr>\n",
       "  </thead>\n",
       "  <tbody>\n",
       "    <tr>\n",
       "      <th>gpt3.5 0-shot A</th>\n",
       "      <td>0.534</td>\n",
       "      <td>0.495</td>\n",
       "      <td>0.369</td>\n",
       "      <td>0.261</td>\n",
       "      <td>0.105</td>\n",
       "      <td>0.396</td>\n",
       "    </tr>\n",
       "    <tr>\n",
       "      <th>gpt3.5 0-shot B</th>\n",
       "      <td>0.612</td>\n",
       "      <td>0.526</td>\n",
       "      <td>0.404</td>\n",
       "      <td>0.318</td>\n",
       "      <td>0.144</td>\n",
       "      <td>0.433</td>\n",
       "    </tr>\n",
       "    <tr>\n",
       "      <th>gpt3.5 1-shot B</th>\n",
       "      <td>0.834</td>\n",
       "      <td>0.785</td>\n",
       "      <td>0.461</td>\n",
       "      <td>0.647</td>\n",
       "      <td>0.304</td>\n",
       "      <td>0.453</td>\n",
       "    </tr>\n",
       "    <tr>\n",
       "      <th>gpt4 0-shot A</th>\n",
       "      <td>0.843</td>\n",
       "      <td>0.811</td>\n",
       "      <td>0.585</td>\n",
       "      <td>0.680</td>\n",
       "      <td>0.417</td>\n",
       "      <td>0.627</td>\n",
       "    </tr>\n",
       "    <tr>\n",
       "      <th>gpt4 0-shot B</th>\n",
       "      <td>0.817</td>\n",
       "      <td>0.812</td>\n",
       "      <td>0.445</td>\n",
       "      <td>0.658</td>\n",
       "      <td>0.308</td>\n",
       "      <td>0.457</td>\n",
       "    </tr>\n",
       "    <tr>\n",
       "      <th>gpt4 1-shot B</th>\n",
       "      <td>0.878</td>\n",
       "      <td>0.877</td>\n",
       "      <td>0.557</td>\n",
       "      <td>0.766</td>\n",
       "      <td>0.434</td>\n",
       "      <td>0.555</td>\n",
       "    </tr>\n",
       "    <tr>\n",
       "      <th>mi7Bi1 0-shot A</th>\n",
       "      <td>0.386</td>\n",
       "      <td>0.396</td>\n",
       "      <td>0.370</td>\n",
       "      <td>0.140</td>\n",
       "      <td>0.064</td>\n",
       "      <td>0.462</td>\n",
       "    </tr>\n",
       "    <tr>\n",
       "      <th>mi7Bi1 0-shot B</th>\n",
       "      <td>0.328</td>\n",
       "      <td>0.303</td>\n",
       "      <td>0.374</td>\n",
       "      <td>0.092</td>\n",
       "      <td>0.040</td>\n",
       "      <td>0.452</td>\n",
       "    </tr>\n",
       "    <tr>\n",
       "      <th>mi7Bi1 0-shot Bq</th>\n",
       "      <td>0.557</td>\n",
       "      <td>0.495</td>\n",
       "      <td>0.351</td>\n",
       "      <td>0.274</td>\n",
       "      <td>0.093</td>\n",
       "      <td>0.359</td>\n",
       "    </tr>\n",
       "    <tr>\n",
       "      <th>mi7Bi1 1-shot B</th>\n",
       "      <td>0.300</td>\n",
       "      <td>0.252</td>\n",
       "      <td>0.476</td>\n",
       "      <td>0.081</td>\n",
       "      <td>0.037</td>\n",
       "      <td>0.259</td>\n",
       "    </tr>\n",
       "    <tr>\n",
       "      <th>mi7Bi2 0-shot A</th>\n",
       "      <td>0.559</td>\n",
       "      <td>0.493</td>\n",
       "      <td>0.388</td>\n",
       "      <td>0.269</td>\n",
       "      <td>0.116</td>\n",
       "      <td>0.449</td>\n",
       "    </tr>\n",
       "    <tr>\n",
       "      <th>mi7Bi2 0-shot B</th>\n",
       "      <td>0.470</td>\n",
       "      <td>0.455</td>\n",
       "      <td>0.407</td>\n",
       "      <td>0.200</td>\n",
       "      <td>0.082</td>\n",
       "      <td>0.394</td>\n",
       "    </tr>\n",
       "    <tr>\n",
       "      <th>mi7Bi2 0-shot Bq</th>\n",
       "      <td>0.695</td>\n",
       "      <td>0.691</td>\n",
       "      <td>0.352</td>\n",
       "      <td>0.483</td>\n",
       "      <td>0.145</td>\n",
       "      <td>0.285</td>\n",
       "    </tr>\n",
       "    <tr>\n",
       "      <th>mi7Bi2 1-shot B</th>\n",
       "      <td>0.590</td>\n",
       "      <td>0.510</td>\n",
       "      <td>0.388</td>\n",
       "      <td>0.301</td>\n",
       "      <td>0.104</td>\n",
       "      <td>0.308</td>\n",
       "    </tr>\n",
       "  </tbody>\n",
       "</table>\n",
       "</div>"
      ],
      "text/plain": [
       "                      a      b    rel    a_b   gold    ent\n",
       "gpt3.5 0-shot A   0.534  0.495  0.369  0.261  0.105  0.396\n",
       "gpt3.5 0-shot B   0.612  0.526  0.404  0.318  0.144  0.433\n",
       "gpt3.5 1-shot B   0.834  0.785  0.461  0.647  0.304  0.453\n",
       "gpt4 0-shot A     0.843  0.811  0.585  0.680  0.417  0.627\n",
       "gpt4 0-shot B     0.817  0.812  0.445  0.658  0.308  0.457\n",
       "gpt4 1-shot B     0.878  0.877  0.557  0.766  0.434  0.555\n",
       "mi7Bi1 0-shot A   0.386  0.396  0.370  0.140  0.064  0.462\n",
       "mi7Bi1 0-shot B   0.328  0.303  0.374  0.092  0.040  0.452\n",
       "mi7Bi1 0-shot Bq  0.557  0.495  0.351  0.274  0.093  0.359\n",
       "mi7Bi1 1-shot B   0.300  0.252  0.476  0.081  0.037  0.259\n",
       "mi7Bi2 0-shot A   0.559  0.493  0.388  0.269  0.116  0.449\n",
       "mi7Bi2 0-shot B   0.470  0.455  0.407  0.200  0.082  0.394\n",
       "mi7Bi2 0-shot Bq  0.695  0.691  0.352  0.483  0.145  0.285\n",
       "mi7Bi2 1-shot B   0.590  0.510  0.388  0.301  0.104  0.308"
      ]
     },
     "execution_count": 47,
     "metadata": {},
     "output_type": "execute_result"
    }
   ],
   "source": [
    "dfo_"
   ]
  },
  {
   "cell_type": "code",
   "execution_count": 139,
   "id": "678d69de",
   "metadata": {},
   "outputs": [],
   "source": [
    "#dfe['mist-7Bi-f1s1']['rel'].unique()"
   ]
  },
  {
   "cell_type": "code",
   "execution_count": 48,
   "id": "252f00df",
   "metadata": {},
   "outputs": [
    {
     "name": "stdout",
     "output_type": "stream",
     "text": [
      "gpt3.5 0-shot A & 0.534 & 0.495 & 0.261 & 0.369 & 0.105 & 0.396\\\\\n",
      "gpt3.5 0-shot B & 0.612 & 0.526 & 0.318 & 0.404 & 0.144 & 0.433\\\\\n",
      "gpt3.5 1-shot B & 0.834 & 0.785 & 0.647 & 0.461 & 0.304 & 0.453\\\\\n",
      "gpt4 0-shot A & 0.843 & 0.811 & 0.68 & 0.585 & 0.417 & 0.627\\\\\n",
      "gpt4 0-shot B & 0.817 & 0.812 & 0.658 & 0.445 & 0.308 & 0.457\\\\\n",
      "gpt4 1-shot B & 0.878 & 0.877 & 0.766 & 0.557 & 0.434 & 0.555\\\\\n",
      "mi7Bi1 0-shot A & 0.386 & 0.396 & 0.14 & 0.37 & 0.064 & 0.462\\\\\n",
      "mi7Bi1 0-shot B & 0.328 & 0.303 & 0.092 & 0.374 & 0.04 & 0.452\\\\\n",
      "mi7Bi1 1-shot B & 0.3 & 0.252 & 0.081 & 0.476 & 0.037 & 0.259\\\\\n",
      "mi7Bi2 0-shot A & 0.559 & 0.493 & 0.269 & 0.388 & 0.116 & 0.449\\\\\n",
      "mi7Bi2 0-shot B & 0.47 & 0.455 & 0.2 & 0.407 & 0.082 & 0.394\\\\\n",
      "mi7Bi2 1-shot B & 0.59 & 0.51 & 0.301 & 0.388 & 0.104 & 0.308\\\\\n"
     ]
    }
   ],
   "source": [
    "for id_ in [x for x in dfo_.index if 'q' not in x]:\n",
    "    vals = [id_] + dfo_.loc[ id_,['a','b','a_b','rel','gold','ent']].values.tolist()\n",
    "    #make_str = ' & '.join([str(x) if i!= best else '\\\\textbf{'+str(x)+'}' for i,x in vals])+'\\\\\\\\'\n",
    "    make_str =' & '.join([str(x) for x in vals]) + '\\\\\\\\'\n",
    "    print(make_str)\n",
    "    "
   ]
  },
  {
   "cell_type": "code",
   "execution_count": 49,
   "id": "eb9bea71",
   "metadata": {},
   "outputs": [
    {
     "name": "stdout",
     "output_type": "stream",
     "text": [
      "mi7Bi1 0-shot Bq & 0.557 & 0.495 & 0.274 & 0.351 & 0.093 & 0.359\\\\\n",
      "mi7Bi2 0-shot Bq & 0.695 & 0.691 & 0.483 & 0.352 & 0.145 & 0.285\\\\\n"
     ]
    }
   ],
   "source": [
    "for id_ in [x for x in dfo_.index if 'q' in x]:\n",
    "    vals = [id_] + dfo_.loc[ id_,['a','b','a_b','rel','gold','ent']].values.tolist()\n",
    "    #make_str = ' & '.join([str(x) if i!= best else '\\\\textbf{'+str(x)+'}' for i,x in vals])+'\\\\\\\\'\n",
    "    make_str =' & '.join([str(x) for x in vals])+ '\\\\\\\\'\n",
    "    print(make_str)"
   ]
  },
  {
   "cell_type": "markdown",
   "id": "341ec109",
   "metadata": {},
   "source": [
    "## Focus on subjects / numbers...\n",
    "\n",
    "Collect overall accuracies, generate plots etc.."
   ]
  },
  {
   "cell_type": "code",
   "execution_count": 53,
   "id": "72624f0e",
   "metadata": {},
   "outputs": [],
   "source": [
    "data_dict = {}\n",
    "for ii, model in enumerate( models_):\n",
    "    data_dict[ model] = (dfs[ model] == dfs[ 'true']).mean()\n",
    "    data_dict[ model].loc['overall'] = (dfs[ model] == dfs[ 'true']).sum().sum() / (dfs[ 'true'] == dfs[ 'true']).sum().sum()\n",
    "\n",
    "gpt_sub_dict = {k:v for k,v in data_dict.items() if 'gpt' in k}\n",
    "mi_sub_dict = {k:v for k,v in data_dict.items() if 'mi' in k and 'q' not in k}\n",
    "qa_sub_dict = {k:v for k,v in data_dict.items() if 'q' in k}"
   ]
  },
  {
   "cell_type": "code",
   "execution_count": 54,
   "id": "4a0d1345",
   "metadata": {},
   "outputs": [
    {
     "data": {
      "text/plain": [
       "dict_keys(['mist-7Bi1-f0s0', 'mist-7Bi1-f1s0', 'mist-7Bi1-f1s1', 'mist-7Bi2-f0s0', 'mist-7Bi2-f1s0', 'mist-7Bi2-f1s1'])"
      ]
     },
     "execution_count": 54,
     "metadata": {},
     "output_type": "execute_result"
    }
   ],
   "source": [
    "mi_sub_dict.keys()"
   ]
  },
  {
   "cell_type": "code",
   "execution_count": 55,
   "id": "0a3c55fd",
   "metadata": {},
   "outputs": [],
   "source": [
    "num_accuracies = (\n",
    "    [np.round(v['overall'],2) for k, v in gpt_sub_dict.items() if 'gpt-3.5' in k] +\n",
    "    [np.round(v['overall'],2) for k, v in gpt_sub_dict.items() if 'gpt-4' in k] +\n",
    "    [np.round(v['overall'],2) for k, v in mi_sub_dict.items() if 'i1' in k] +\n",
    "    [np.round(v['overall'],2) for k, v in qa_sub_dict.items() if 'i1' in k] +\n",
    "    [np.round(v['overall'],2) for k, v in mi_sub_dict.items() if 'i2' in k] +\n",
    "    [np.round(v['overall'],2) for k, v in qa_sub_dict.items() if 'i2' in k]\n",
    ")"
   ]
  },
  {
   "cell_type": "code",
   "execution_count": 56,
   "id": "8c7c6a83",
   "metadata": {},
   "outputs": [
    {
     "data": {
      "text/plain": [
       "'0.41 & 0.51 & 0.81 & 0.85 & 0.81 & 0.91 & 0.35 & 0.19 & 0.2 & 0.54 & 0.6 & 0.49 & 0.61 & 0.79\\\\'"
      ]
     },
     "execution_count": 56,
     "metadata": {},
     "output_type": "execute_result"
    }
   ],
   "source": [
    "' & '.join([str(x) for x in num_accuracies]) +'\\\\'"
   ]
  },
  {
   "cell_type": "code",
   "execution_count": 57,
   "id": "190295e6",
   "metadata": {},
   "outputs": [
    {
     "data": {
      "text/plain": [
       "0    207\n",
       "2     25\n",
       "dtype: int64"
      ]
     },
     "execution_count": 57,
     "metadata": {},
     "output_type": "execute_result"
    }
   ],
   "source": [
    "pd.Series(dfs['true'].values.reshape(-1)).value_counts()[:2]"
   ]
  },
  {
   "cell_type": "code",
   "execution_count": 58,
   "id": "2989d952",
   "metadata": {},
   "outputs": [
    {
     "name": "stdout",
     "output_type": "stream",
     "text": [
      "gpt-3.5-f0s0 0.89375 0.00625\n",
      "gpt-3.5-f1s0 0.8636363636363636 0.007575757575757576\n",
      "gpt-3.5-f1s1 0.8 0.02\n",
      "gpt-4-f0s0 0.7560975609756098 0.04878048780487805\n",
      "gpt-4-f1s0 0.8235294117647058 0.058823529411764705\n",
      "gpt-4-f1s1 0.72 0.04\n",
      "mist-7Bi1-f0s0 0.8285714285714286 0.005714285714285714\n",
      "mist-7Bi1-f1s0 0.863013698630137 0.0\n",
      "mist-7Bi1-f1s0q 0.7661290322580645 0.03225806451612903\n",
      "mist-7Bi1-f1s1 0.8379629629629629 0.004629629629629629\n",
      "mist-7Bi2-f0s0 0.7155963302752294 0.03669724770642202\n",
      "mist-7Bi2-f1s0 0.7518248175182481 0.014598540145985401\n",
      "mist-7Bi2-f1s0q 0.5 0.20689655172413793\n",
      "mist-7Bi2-f1s1 0.6952380952380952 0.0380952380952381\n"
     ]
    }
   ],
   "source": [
    "for model_ in models_:\n",
    "    err = (dfs[model_]!=dfs['true']).sum().sum()\n",
    "    err_on_zero = (\n",
    "        ((dfs[model_] != dfs['true']) & (dfs['true']==0)).sum().sum() \n",
    "    )\n",
    "    zero_on_err = (\n",
    "        ((dfs[model_]==0) & (dfs['true']!=0)).sum().sum()\n",
    "    )\n",
    "    print( model_, err_on_zero/err, zero_on_err/err)"
   ]
  },
  {
   "cell_type": "code",
   "execution_count": 59,
   "id": "5f51f477",
   "metadata": {},
   "outputs": [
    {
     "data": {
      "image/png": "[encoded data removed]",
      "text/plain": [
       "<Figure size 936x288 with 1 Axes>"
      ]
     },
     "metadata": {
      "needs_background": "light"
     },
     "output_type": "display_data"
    }
   ],
   "source": [
    "plot_grouped_bars( \n",
    "    gpt_sub_dict, tooth_gap_after= 3, #file_out= '../data/figures/performance_numbers_gpt.eps', \n",
    "    labels= [x.split()[-1] for x in data_dict['gpt-3.5-f0s0'].index], rotation= 0, legend= [l for l in labels_ if 'q' not in l],\n",
    "    #extra_dict= mi_sub_dict\n",
    ")"
   ]
  },
  {
   "cell_type": "code",
   "execution_count": 60,
   "id": "150cd233",
   "metadata": {},
   "outputs": [
    {
     "data": {
      "image/png": "[encoded data removed]",
      "text/plain": [
       "<Figure size 936x288 with 1 Axes>"
      ]
     },
     "metadata": {
      "needs_background": "light"
     },
     "output_type": "display_data"
    }
   ],
   "source": [
    "plot_grouped_bars( \n",
    "    mi_sub_dict, tooth_gap_after= 3, #file_out= '../data/figures/performance_numbers_mi.eps', \n",
    "    labels= [x.split()[-1] for x in data_dict['gpt-3.5-f0s0'].index], rotation= 0, legend= labels_\n",
    ")"
   ]
  },
  {
   "cell_type": "markdown",
   "id": "fe9e471f",
   "metadata": {},
   "source": [
    "drilling a bit further into the nature of errors (object bias vs elements bias)"
   ]
  },
  {
   "cell_type": "code",
   "execution_count": 84,
   "id": "a3840409",
   "metadata": {},
   "outputs": [],
   "source": [
    "elems = dfs['gpt-3.5-f1s0']['unicycle'].index\n",
    "elems_ = [x for x in elems if x not in ('tyres','wheels')]"
   ]
  },
  {
   "cell_type": "code",
   "execution_count": 85,
   "id": "f5b2061b",
   "metadata": {},
   "outputs": [],
   "source": [
    "data_dict = {}\n",
    "model = 'gpt-3.5-f1s0'\n",
    "legend = ['unicycle', 'bicycle', 'tricycle']\n",
    "for ii, label in enumerate( legend):\n",
    "    data_dict[ label] = (dfs[ model][ label].loc[elems_])"
   ]
  },
  {
   "cell_type": "code",
   "execution_count": 86,
   "id": "63bb4ef4",
   "metadata": {},
   "outputs": [],
   "source": [
    "element_labels = [\n",
    "    x.replace(' altogether',' all').replace('pairs of ','p.o. ').replace(' leg','').replace(' foot','').replace(' hand','')\n",
    "    .replace(' on each',' o.e.').replace('dorsal ','d. ').replace('pectoral ','p. ')\n",
    "    .replace(' pipes','').replace('wing ','w. ').zfill(11).replace('0',' ')\n",
    "    for x in elems_\n",
    "]"
   ]
  },
  {
   "cell_type": "code",
   "execution_count": 87,
   "id": "7d53686c",
   "metadata": {},
   "outputs": [
    {
     "name": "stderr",
     "output_type": "stream",
     "text": [
      "The PostScript backend does not support transparency; partially transparent artists will be rendered opaque.\n",
      "The PostScript backend does not support transparency; partially transparent artists will be rendered opaque.\n"
     ]
    },
    {
     "data": {
      "image/png": "[encoded data removed]",
      "text/plain": [
       "<Figure size 1152x360 with 1 Axes>"
      ]
     },
     "metadata": {
      "needs_background": "light"
     },
     "output_type": "display_data"
    }
   ],
   "source": [
    "plot_grouped_bars( \n",
    "    data_dict, wide= True, width= 0.25, ylabel= 'Predictied number', colors= ['lightsteelblue','thistle','darkslateblue'],\n",
    "    labels = element_labels, legend= legend, file_out= '../data/figures/subject_bias_gpt.eps', xlim= [-0.5,28.3]\n",
    ")"
   ]
  },
  {
   "cell_type": "markdown",
   "id": "1fffc27c",
   "metadata": {},
   "source": [
    "### see if Mistral does similarly"
   ]
  },
  {
   "cell_type": "code",
   "execution_count": 88,
   "id": "010b87c9",
   "metadata": {},
   "outputs": [],
   "source": [
    "data_dict = {}\n",
    "model = 'mist-7Bi1-f1s0'\n",
    "legend = ['unicycle', 'bicycle', 'tricycle']\n",
    "elems = dfs['mist-7Bi2-f1s0']['unicycle'].index\n",
    "elems_ = [x for x in elems if x not in ('tyres','wheels')]\n",
    "for ii, label in enumerate( legend):\n",
    "    data_dict[ label] = (dfs[ model][ label].loc[elems_])"
   ]
  },
  {
   "cell_type": "code",
   "execution_count": 80,
   "id": "8d9424fe",
   "metadata": {},
   "outputs": [],
   "source": [
    "element_labels = [\n",
    "    x.replace(' altogether',' all').replace('pairs of ','p.o. ').replace(' leg','').replace(' foot','').replace(' hand','')\n",
    "    .replace(' on each',' o.e.').replace('dorsal ','d. ').replace('pectoral ','p. ')\n",
    "    .replace(' pipes','').replace('wing ','w. ').zfill(11).replace('0',' ')\n",
    "    for x in elems_\n",
    "]"
   ]
  },
  {
   "cell_type": "code",
   "execution_count": 89,
   "id": "74369f8d",
   "metadata": {},
   "outputs": [
    {
     "name": "stderr",
     "output_type": "stream",
     "text": [
      "The PostScript backend does not support transparency; partially transparent artists will be rendered opaque.\n",
      "The PostScript backend does not support transparency; partially transparent artists will be rendered opaque.\n"
     ]
    },
    {
     "data": {
      "image/png": "[encoded data removed]",
      "text/plain": [
       "<Figure size 1152x360 with 1 Axes>"
      ]
     },
     "metadata": {
      "needs_background": "light"
     },
     "output_type": "display_data"
    }
   ],
   "source": [
    "plot_grouped_bars( \n",
    "    data_dict, wide= True, width= 0.25, ylabel= 'Predictied number', colors= ['lightsteelblue','thistle','darkslateblue'],\n",
    "    labels = element_labels, legend= legend, xlim= [-0.5,28.3], \n",
    "    file_out= '../data/figures/subject_bias_mi.eps'\n",
    ")"
   ]
  },
  {
   "cell_type": "code",
   "execution_count": 52,
   "id": "528a7744",
   "metadata": {},
   "outputs": [
    {
     "data": {
      "text/plain": [
       "30"
      ]
     },
     "execution_count": 52,
     "metadata": {},
     "output_type": "execute_result"
    }
   ],
   "source": [
    "len(element_labels)"
   ]
  },
  {
   "cell_type": "code",
   "execution_count": 333,
   "id": "79bd50d1",
   "metadata": {},
   "outputs": [],
   "source": [
    "subjects=dfs.columns.get_level_values('subject').unique()"
   ]
  },
  {
   "cell_type": "code",
   "execution_count": 45,
   "id": "52300e22",
   "metadata": {},
   "outputs": [],
   "source": [
    "data_dict = {}\n",
    "model = 'gpt-3.5-f0s0'\n",
    "subjects = dfs.columns.get_level_values('subject').unique()\n",
    "for ii, label in enumerate( ['fingers on each hand','toes on each foot']):\n",
    "    data_dict[ label] = dfs[ model][ subjects].loc[ label] #- dfs[ 'true'][ subjects].loc[ label])"
   ]
  },
  {
   "cell_type": "code",
   "execution_count": 46,
   "id": "bda482e5",
   "metadata": {},
   "outputs": [
    {
     "data": {
      "image/png": "[encoded data removed]",
      "text/plain": [
       "<Figure size 1152x360 with 1 Axes>"
      ]
     },
     "metadata": {
      "needs_background": "light"
     },
     "output_type": "display_data"
    }
   ],
   "source": [
    "plot_grouped_bars( \n",
    "    data_dict, wide= True, width= 0.2, ylabel= 'Prediction', colors= ['lightsteelblue','steelblue'],\n",
    "    labels = subjects\n",
    ")"
   ]
  },
  {
   "cell_type": "code",
   "execution_count": null,
   "id": "3520f59b",
   "metadata": {},
   "outputs": [],
   "source": []
  },
  {
   "cell_type": "code",
   "execution_count": null,
   "id": "0acaadbd",
   "metadata": {},
   "outputs": [],
   "source": []
  }
 ],
 "metadata": {
  "kernelspec": {
   "display_name": "Python 3 (ipykernel)",
   "language": "python",
   "name": "python3"
  },
  "language_info": {
   "codemirror_mode": {
    "name": "ipython",
    "version": 3
   },
   "file_extension": ".py",
   "mimetype": "text/x-python",
   "name": "python",
   "nbconvert_exporter": "python",
   "pygments_lexer": "ipython3",
   "version": "3.7.9"
  }
 },
 "nbformat": 4,
 "nbformat_minor": 5
}
